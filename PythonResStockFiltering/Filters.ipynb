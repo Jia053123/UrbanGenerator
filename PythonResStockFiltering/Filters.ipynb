{
 "cells": [
  {
   "cell_type": "code",
   "execution_count": null,
   "metadata": {},
   "outputs": [],
   "source": [
    "import pandas as pd\n",
    "from ResStockFolderHelper import copy_models_with_id\n",
    "\n",
    "\n",
    "download_folder = \"C:/Users/Eppy/Documents/Restock_Project/download\" \n"
   ]
  },
  {
   "cell_type": "code",
   "execution_count": null,
   "metadata": {},
   "outputs": [],
   "source": [
    "building_ids_csv = \"C:/Users/Eppy/Documents/MyCode/UrbanGeneratorCsv/singleFamily_Attached.csv\"\n",
    "destination_folder = \"C:/Users/Eppy/Documents/MyCode/UrbanGeneratorModels\"\n",
    "\n",
    "building_ids = pd.read_csv(building_ids_csv).to_numpy()[:,0]\n",
    "# print(building_ids)\n",
    "copy_models_with_id(building_ids, download_folder, destination_folder)"
   ]
  }
 ],
 "metadata": {
  "kernelspec": {
   "display_name": "sci6374Eppy",
   "language": "python",
   "name": "python3"
  },
  "language_info": {
   "codemirror_mode": {
    "name": "ipython",
    "version": 3
   },
   "file_extension": ".py",
   "mimetype": "text/x-python",
   "name": "python",
   "nbconvert_exporter": "python",
   "pygments_lexer": "ipython3",
   "version": "3.10.9"
  }
 },
 "nbformat": 4,
 "nbformat_minor": 2
}
